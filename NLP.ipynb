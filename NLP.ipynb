{
 "cells": [
  {
   "cell_type": "code",
   "execution_count": 2,
   "id": "0f2a2696-fa15-49e2-b997-3295af37ac61",
   "metadata": {},
   "outputs": [
    {
     "name": "stderr",
     "output_type": "stream",
     "text": [
      "[nltk_data] Downloading package punkt_tab to\n",
      "[nltk_data]     C:\\Users\\atmiya\\AppData\\Roaming\\nltk_data...\n",
      "[nltk_data]   Unzipping tokenizers\\punkt_tab.zip.\n"
     ]
    },
    {
     "data": {
      "text/plain": [
       "True"
      ]
     },
     "execution_count": 2,
     "metadata": {},
     "output_type": "execute_result"
    }
   ],
   "source": [
    "#unit 4 NlP\n",
    "import nltk\n",
    "nltk.download('punkt_tab')#Need to be once\n"
   ]
  },
  {
   "cell_type": "code",
   "execution_count": 13,
   "id": "2250d6e8-ef7a-4db2-b232-111fd6b83533",
   "metadata": {},
   "outputs": [
    {
     "name": "stdout",
     "output_type": "stream",
     "text": [
      "Sentence tokeniser: ['I love NLP.', \"It's fun,isn't it?\"]\n",
      "Sentence tokeniser: ['I love NLP.', \"It's fun,isn't it?\"]\n"
     ]
    }
   ],
   "source": [
    "#Applying the sentence tokenization on the text\n",
    "from nltk.tokenize import sent_tokenize\n",
    "#input text\n",
    "text=\"I love NLP. It's fun,isn't it?\"\n",
    "text1=\"I love NLP. It's fun,isn't it?\"\n",
    "\n",
    "#Sentenece tokenisation\n",
    "tokenised_sentence=sent_tokenize(text)\n",
    "print('Sentence tokeniser:',tokenised_sentence)\n",
    "tokenised_sentence2=sent_tokenize(text1)\n",
    "print('Sentence tokeniser:',tokenised_sentence2)\n"
   ]
  },
  {
   "cell_type": "code",
   "execution_count": 9,
   "id": "1257eaee-69ce-4153-a339-548bfd270dcc",
   "metadata": {},
   "outputs": [
    {
     "name": "stdout",
     "output_type": "stream",
     "text": [
      "word tokeniser: ['I', 'love', 'NLP', '.', 'It', \"'s\", 'fun', ',', 'is', \"n't\", 'it', '?']\n"
     ]
    }
   ],
   "source": [
    "#applying the word tokenization on the text\n",
    "from nltk.tokenize import word_tokenize\n",
    "\n",
    "#input text\n",
    "text=\"I love NLP. It's fun,isn't it?\"\n",
    "#word tokenisation\n",
    "tokenised_word=word_tokenize(text)\n",
    "print('word tokeniser:',tokenised_word)"
   ]
  },
  {
   "cell_type": "code",
   "execution_count": 14,
   "id": "f065a652-cb8a-4cb4-a9a3-e916941fb0ef",
   "metadata": {},
   "outputs": [
    {
     "name": "stdout",
     "output_type": "stream",
     "text": [
      "word tokeniser: ['I', 'love', 'NLP', '.', 'It', \"'\", 's', 'fun', ',', 'isn', \"'\", 't', 'it', '?']\n"
     ]
    }
   ],
   "source": [
    "#applying the word punctuation tokenization on the text\n",
    "from nltk.tokenize import wordpunct_tokenize\n",
    "#input text\n",
    "text=\"I love NLP. It's fun,isn't it?\"\n",
    "tokenised_wordpunct=wordpunct_tokenize(text)\n",
    "print('word tokeniser:',tokenised_wordpunct)"
   ]
  },
  {
   "cell_type": "code",
   "execution_count": 17,
   "id": "4640fa51-be4a-43cf-864d-ea92c88a7ff2",
   "metadata": {},
   "outputs": [
    {
     "name": "stdout",
     "output_type": "stream",
     "text": [
      "Porter Stemmer\n",
      "student --> student\n",
      "water --> water\n",
      "studies --> studi\n",
      "studying --> studi\n",
      "happiness --> happi\n",
      "playing --> play\n",
      "played --> play\n",
      "\n",
      "Snowball Stemmer\n",
      "\n",
      "student --> student\n",
      "water --> water\n",
      "studies --> studi\n",
      "studying --> studi\n",
      "happiness --> happi\n",
      "playing --> play\n",
      "played --> play\n",
      "\n",
      "Lancaster Stemmer\n",
      "\n",
      "student --> stud\n",
      "water --> wat\n",
      "studies --> study\n",
      "studying --> study\n",
      "happiness --> happy\n",
      "playing --> play\n",
      "played --> play\n"
     ]
    }
   ],
   "source": [
    "#stemming all 3in one\n",
    "from nltk.stem import PorterStemmer,SnowballStemmer,LancasterStemmer\n",
    "#creating the object of stemmer\n",
    "porter=PorterStemmer()\n",
    "snowball=SnowballStemmer('english')\n",
    "lancaster=LancasterStemmer()\n",
    "#input words\n",
    "words=[\"student\",\"water\",\"studies\",\"studying\",\"happiness\",\"playing\",\"played\"]\n",
    "print('Porter Stemmer')\n",
    "for w in words:\n",
    "    print(w,'-->',porter.stem(w))\n",
    "print('\\nSnowball Stemmer\\n')\n",
    "for w in words:\n",
    "    print(w,'-->',snowball.stem(w))\n",
    "print('\\nLancaster Stemmer\\n')\n",
    "for w in words:\n",
    "    print(w,'-->',lancaster.stem(w))\n"
   ]
  },
  {
   "cell_type": "code",
   "execution_count": null,
   "id": "a8d69115-f110-4377-b12a-9a75cd3c88d1",
   "metadata": {},
   "outputs": [],
   "source": []
  }
 ],
 "metadata": {
  "kernelspec": {
   "display_name": "Python 3 (ipykernel)",
   "language": "python",
   "name": "python3"
  },
  "language_info": {
   "codemirror_mode": {
    "name": "ipython",
    "version": 3
   },
   "file_extension": ".py",
   "mimetype": "text/x-python",
   "name": "python",
   "nbconvert_exporter": "python",
   "pygments_lexer": "ipython3",
   "version": "3.10.2"
  }
 },
 "nbformat": 4,
 "nbformat_minor": 5
}
