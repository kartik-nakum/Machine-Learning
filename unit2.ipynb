{
 "cells": [
  {
   "cell_type": "code",
   "execution_count": 1,
   "id": "c0ab4adc-d87e-4840-8d98-da9fa412e2b5",
   "metadata": {},
   "outputs": [
    {
     "name": "stdout",
     "output_type": "stream",
     "text": [
      "[[-4.]\n",
      " [-2.]\n",
      " [ 0.]\n",
      " [ 2.]\n",
      " [ 4.]]\n",
      "[2.82842712]\n",
      "[0.]\n",
      "[[-1.41421356]\n",
      " [-0.70710678]\n",
      " [ 0.        ]\n",
      " [ 0.70710678]\n",
      " [ 1.41421356]]\n",
      "[0.]\n"
     ]
    }
   ],
   "source": [
    "#Unit 2\n",
    "#Pre processing\n",
    "#Mean removal\n",
    "import numpy as np\n",
    "from sklearn import preprocessing\n",
    "data=np.array([[2],[4],[6],[8],[10]])\n",
    "\n",
    "#Calculate mean of each column\n",
    "mean=data.mean(axis=0)#axis=0 means,calculate mean column wise\n",
    "\n",
    "#Subtract mean from the data\n",
    "mean_removed=data-mean\n",
    "print(mean_removed)\n",
    "print(mean_removed.std(axis=0))\n",
    "print(mean_removed.mean(axis=0))\n",
    "data_standardize=preprocessing.scale(data)\n",
    "print(data_standardize)\n",
    "print(data_standardize.mean(axis=0))"
   ]
  },
  {
   "cell_type": "code",
   "execution_count": 3,
   "id": "6c1df0dd-e939-4690-a558-829c0c472509",
   "metadata": {},
   "outputs": [
    {
     "name": "stdout",
     "output_type": "stream",
     "text": [
      "[[10]\n",
      " [20]\n",
      " [30]\n",
      " [40]\n",
      " [50]]\n",
      "**************************************************\n",
      "[[0.  ]\n",
      " [0.25]\n",
      " [0.5 ]\n",
      " [0.75]\n",
      " [1.  ]]\n"
     ]
    }
   ],
   "source": [
    "#Scaling \n",
    "import numpy as np\n",
    "from sklearn import preprocessing\n",
    "\n",
    "data=np.array([[10],[20],[30],[40],[50]])\n",
    "print(data)\n",
    "print('*'*50)\n",
    "data_scaler=preprocessing.MinMaxScaler(feature_range=(0,1))\n",
    "\n",
    "scaled_data=data_scaler.fit_transform(data)\n",
    "print(scaled_data)"
   ]
  },
  {
   "cell_type": "code",
   "execution_count": 4,
   "id": "cfe75a06-6bea-49ce-8167-5cdbfc4650b7",
   "metadata": {},
   "outputs": [
    {
     "name": "stdout",
     "output_type": "stream",
     "text": [
      "[[ 3  4]\n",
      " [ 1  2]\n",
      " [ 5 12]]\n",
      "**************************************************\n",
      "[[0.42857143 0.57142857]\n",
      " [0.33333333 0.66666667]\n",
      " [0.29411765 0.70588235]]\n",
      "**************************************************\n",
      "[[0.6        0.8       ]\n",
      " [0.4472136  0.89442719]\n",
      " [0.38461538 0.92307692]]\n"
     ]
    }
   ],
   "source": [
    "#Normalization\n",
    "import numpy as np\n",
    "from sklearn import preprocessing\n",
    "\n",
    "#dataset(will take 2 colums per record)\n",
    "data=np.array([[3,4],[1,2],[5,12]])\n",
    "print(data)\n",
    "print('*'*50)\n",
    "\n",
    "#L1 normalize\n",
    "normalise_l1=preprocessing.normalize(data,norm='l1')\n",
    "print(normalise_l1)\n",
    "print('*'*50)\n",
    "\n",
    "#L2 normalize\n",
    "normalise_l2=preprocessing.normalize(data,norm='l2')\n",
    "print(normalise_l2)"
   ]
  },
  {
   "cell_type": "code",
   "execution_count": 8,
   "id": "f12207b3-3f1d-4ebb-a3c8-d6d0f7b57d5a",
   "metadata": {},
   "outputs": [
    {
     "name": "stdout",
     "output_type": "stream",
     "text": [
      "[[10.2 ]\n",
      " [11.2 ]\n",
      " [ 9.21]\n",
      " [20.3 ]\n",
      " [10.  ]]\n",
      "**************************************************\n",
      "[[0.]\n",
      " [1.]\n",
      " [0.]\n",
      " [1.]\n",
      " [0.]]\n"
     ]
    }
   ],
   "source": [
    "#Binarization\n",
    "import numpy as np\n",
    "from sklearn import preprocessing\n",
    "data=np.array([[10.2],[11.2],[9.21],[20.3],[10]])\n",
    "print(data)\n",
    "print('*'*50)\n",
    "\n",
    "binariz_data=preprocessing.Binarizer(threshold=10.2).transform(data)\n",
    "print(binariz_data)"
   ]
  },
  {
   "cell_type": "code",
   "execution_count": 13,
   "id": "1198607d-c9e2-4233-b861-5eca6019bab9",
   "metadata": {},
   "outputs": [
    {
     "name": "stdout",
     "output_type": "stream",
     "text": [
      "['mango', 'banana', 'apple', 'grapes', 'apple', 'mango']\n",
      "Encoded labels: [3 1 0 2 0 3]\n",
      "[3 1]\n",
      "['mango' 'banana']\n"
     ]
    }
   ],
   "source": [
    "#Label encoding\n",
    "from sklearn import preprocessing\n",
    "\n",
    "#data\n",
    "labels=['mango','banana','apple','grapes','apple','mango']\n",
    "print(labels)\n",
    "\n",
    "#encoding\n",
    "label_encoder=preprocessing.LabelEncoder()\n",
    "op=label_encoder.fit_transform(labels)\n",
    "print('Encoded labels:',op)\n",
    "\n",
    "#Testing\n",
    "test_labels=['mango','banana']\n",
    "print(label_encoder.transform(test_labels))\n",
    "\n",
    "test_code=[3,1]\n",
    "print(label_encoder.inverse_transform(test_code))"
   ]
  },
  {
   "cell_type": "code",
   "execution_count": null,
   "id": "928b6dd4-c90a-418e-81bc-2a38f9887346",
   "metadata": {},
   "outputs": [],
   "source": []
  }
 ],
 "metadata": {
  "kernelspec": {
   "display_name": "Python 3 (ipykernel)",
   "language": "python",
   "name": "python3"
  },
  "language_info": {
   "codemirror_mode": {
    "name": "ipython",
    "version": 3
   },
   "file_extension": ".py",
   "mimetype": "text/x-python",
   "name": "python",
   "nbconvert_exporter": "python",
   "pygments_lexer": "ipython3",
   "version": "3.10.2"
  }
 },
 "nbformat": 4,
 "nbformat_minor": 5
}
