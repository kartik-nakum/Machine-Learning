{
 "cells": [
  {
   "cell_type": "code",
   "execution_count": 2,
   "id": "0f2a2696-fa15-49e2-b997-3295af37ac61",
   "metadata": {},
   "outputs": [
    {
     "name": "stderr",
     "output_type": "stream",
     "text": [
      "[nltk_data] Downloading package punkt_tab to\n",
      "[nltk_data]     C:\\Users\\atmiya\\AppData\\Roaming\\nltk_data...\n",
      "[nltk_data]   Unzipping tokenizers\\punkt_tab.zip.\n"
     ]
    },
    {
     "data": {
      "text/plain": [
       "True"
      ]
     },
     "execution_count": 2,
     "metadata": {},
     "output_type": "execute_result"
    }
   ],
   "source": [
    "#unit 4 NlP\n",
    "import nltk\n",
    "nltk.download('punkt_tab')#Need to be once\n"
   ]
  },
  {
   "cell_type": "code",
   "execution_count": 13,
   "id": "2250d6e8-ef7a-4db2-b232-111fd6b83533",
   "metadata": {},
   "outputs": [
    {
     "name": "stdout",
     "output_type": "stream",
     "text": [
      "Sentence tokeniser: ['I love NLP.', \"It's fun,isn't it?\"]\n",
      "Sentence tokeniser: ['I love NLP.', \"It's fun,isn't it?\"]\n"
     ]
    }
   ],
   "source": [
    "#Applying the sentence tokenization on the text\n",
    "from nltk.tokenize import sent_tokenize\n",
    "#input text\n",
    "text=\"I love NLP. It's fun,isn't it?\"\n",
    "text1=\"I love NLP. It's fun,isn't it?\"\n",
    "\n",
    "#Sentenece tokenisation\n",
    "tokenised_sentence=sent_tokenize(text)\n",
    "print('Sentence tokeniser:',tokenised_sentence)\n",
    "tokenised_sentence2=sent_tokenize(text1)\n",
    "print('Sentence tokeniser:',tokenised_sentence2)\n"
   ]
  },
  {
   "cell_type": "code",
   "execution_count": 9,
   "id": "1257eaee-69ce-4153-a339-548bfd270dcc",
   "metadata": {},
   "outputs": [
    {
     "name": "stdout",
     "output_type": "stream",
     "text": [
      "word tokeniser: ['I', 'love', 'NLP', '.', 'It', \"'s\", 'fun', ',', 'is', \"n't\", 'it', '?']\n"
     ]
    }
   ],
   "source": [
    "#applying the word tokenization on the text\n",
    "from nltk.tokenize import word_tokenize\n",
    "\n",
    "#input text\n",
    "text=\"I love NLP. It's fun,isn't it?\"\n",
    "#word tokenisation\n",
    "tokenised_word=word_tokenize(text)\n",
    "print('word tokeniser:',tokenised_word)"
   ]
  },
  {
   "cell_type": "code",
   "execution_count": 14,
   "id": "f065a652-cb8a-4cb4-a9a3-e916941fb0ef",
   "metadata": {},
   "outputs": [
    {
     "name": "stdout",
     "output_type": "stream",
     "text": [
      "word tokeniser: ['I', 'love', 'NLP', '.', 'It', \"'\", 's', 'fun', ',', 'isn', \"'\", 't', 'it', '?']\n"
     ]
    }
   ],
   "source": [
    "#applying the word punctuation tokenization on the text\n",
    "from nltk.tokenize import wordpunct_tokenize\n",
    "#input text\n",
    "text=\"I love NLP. It's fun,isn't it?\"\n",
    "tokenised_wordpunct=wordpunct_tokenize(text)\n",
    "print('word tokeniser:',tokenised_wordpunct)"
   ]
  },
  {
   "cell_type": "code",
   "execution_count": 17,
   "id": "4640fa51-be4a-43cf-864d-ea92c88a7ff2",
   "metadata": {},
   "outputs": [
    {
     "name": "stdout",
     "output_type": "stream",
     "text": [
      "Porter Stemmer\n",
      "student --> student\n",
      "water --> water\n",
      "studies --> studi\n",
      "studying --> studi\n",
      "happiness --> happi\n",
      "playing --> play\n",
      "played --> play\n",
      "\n",
      "Snowball Stemmer\n",
      "\n",
      "student --> student\n",
      "water --> water\n",
      "studies --> studi\n",
      "studying --> studi\n",
      "happiness --> happi\n",
      "playing --> play\n",
      "played --> play\n",
      "\n",
      "Lancaster Stemmer\n",
      "\n",
      "student --> stud\n",
      "water --> wat\n",
      "studies --> study\n",
      "studying --> study\n",
      "happiness --> happy\n",
      "playing --> play\n",
      "played --> play\n"
     ]
    }
   ],
   "source": [
    "#stemming all 3in one\n",
    "from nltk.stem import PorterStemmer,SnowballStemmer,LancasterStemmer\n",
    "#creating the object of stemmer\n",
    "porter=PorterStemmer()\n",
    "snowball=SnowballStemmer('english')\n",
    "lancaster=LancasterStemmer()\n",
    "#input words\n",
    "words=[\"student\",\"water\",\"studies\",\"studying\",\"happiness\",\"playing\",\"played\"]\n",
    "print('Porter Stemmer')\n",
    "for w in words:\n",
    "    print(w,'-->',porter.stem(w))\n",
    "print('\\nSnowball Stemmer\\n')\n",
    "for w in words:\n",
    "    print(w,'-->',snowball.stem(w))\n",
    "print('\\nLancaster Stemmer\\n')\n",
    "for w in words:\n",
    "    print(w,'-->',lancaster.stem(w))\n"
   ]
  },
  {
   "cell_type": "code",
   "execution_count": 3,
   "id": "a8d69115-f110-4377-b12a-9a75cd3c88d1",
   "metadata": {},
   "outputs": [
    {
     "data": {
      "application/vnd.jupyter.widget-view+json": {
       "model_id": "aff3f5c9ed654ad88578e9ae28626150",
       "version_major": 2,
       "version_minor": 0
      },
      "text/plain": [
       "Downloading https://raw.githubusercontent.com/stanfordnlp/stanza-resources/main/resources_1.10.0.json:   0%|  …"
      ]
     },
     "metadata": {},
     "output_type": "display_data"
    },
    {
     "name": "stderr",
     "output_type": "stream",
     "text": [
      "2025-09-08 11:11:58 INFO: Downloaded file to C:\\Users\\atmiya\\stanza_resources\\resources.json\n",
      "2025-09-08 11:11:58 INFO: Downloading default packages for language: en (English) ...\n"
     ]
    },
    {
     "data": {
      "application/vnd.jupyter.widget-view+json": {
       "model_id": "0d748ac4f4514b388497290f260075d4",
       "version_major": 2,
       "version_minor": 0
      },
      "text/plain": [
       "Downloading https://huggingface.co/stanfordnlp/stanza-en/resolve/v1.10.0/models/default.zip:   0%|          | …"
      ]
     },
     "metadata": {},
     "output_type": "display_data"
    },
    {
     "name": "stderr",
     "output_type": "stream",
     "text": [
      "2025-09-08 11:12:16 INFO: Downloaded file to C:\\Users\\atmiya\\stanza_resources\\en\\default.zip\n",
      "2025-09-08 11:12:20 INFO: Finished downloading models and saved to C:\\Users\\atmiya\\stanza_resources\n"
     ]
    }
   ],
   "source": [
    "#Lemmatization\n",
    "#pip install stanza\n",
    "import stanza\n",
    "stanza.download(\"en\")#Need to be done once"
   ]
  },
  {
   "cell_type": "code",
   "execution_count": 4,
   "id": "223d1437-a118-4115-879b-4b5d0b157dcb",
   "metadata": {},
   "outputs": [
    {
     "name": "stderr",
     "output_type": "stream",
     "text": [
      "2025-09-08 11:18:27 INFO: Checking for updates to resources.json in case models have been updated.  Note: this behavior can be turned off with download_method=None or download_method=DownloadMethod.REUSE_RESOURCES\n"
     ]
    },
    {
     "data": {
      "application/vnd.jupyter.widget-view+json": {
       "model_id": "fd1aeeb09a7e440dad331a7cde62ccc0",
       "version_major": 2,
       "version_minor": 0
      },
      "text/plain": [
       "Downloading https://raw.githubusercontent.com/stanfordnlp/stanza-resources/main/resources_1.10.0.json:   0%|  …"
      ]
     },
     "metadata": {},
     "output_type": "display_data"
    },
    {
     "name": "stderr",
     "output_type": "stream",
     "text": [
      "2025-09-08 11:18:27 INFO: Downloaded file to C:\\Users\\atmiya\\stanza_resources\\resources.json\n",
      "2025-09-08 11:18:28 INFO: Loading these models for language: en (English):\n",
      "=================================\n",
      "| Processor | Package           |\n",
      "---------------------------------\n",
      "| tokenize  | combined          |\n",
      "| mwt       | combined          |\n",
      "| pos       | combined_charlm   |\n",
      "| lemma     | combined_nocharlm |\n",
      "=================================\n",
      "\n",
      "2025-09-08 11:18:28 INFO: Using device: cpu\n",
      "2025-09-08 11:18:28 INFO: Loading: tokenize\n",
      "2025-09-08 11:18:29 INFO: Loading: mwt\n",
      "2025-09-08 11:18:29 INFO: Loading: pos\n",
      "2025-09-08 11:18:31 INFO: Loading: lemma\n",
      "2025-09-08 11:18:31 INFO: Done loading processors!\n"
     ]
    },
    {
     "name": "stdout",
     "output_type": "stream",
     "text": [
      "the --> the\n",
      "children --> child\n",
      "are --> be\n",
      "learning --> learn\n",
      "with --> with\n",
      "their --> their\n",
      "toys --> toy\n",
      "and --> and\n",
      "games --> game\n",
      "are --> be\n",
      "ongoing --> ongoing\n"
     ]
    }
   ],
   "source": [
    "#Lemmatization\n",
    "#pip install stanza\n",
    "import stanza\n",
    "nlp=stanza.Pipeline(lang='en',processors='tokenize,mwt,pos,lemma')\n",
    "text=\"the children are learning with their toys and games are ongoing\"\n",
    "doc=nlp(text)\n",
    "#Iterate\n",
    "for sentence in doc.sentences:\n",
    "    for word in sentence.words:\n",
    "        print(word.text,\"-->\",word.lemma)"
   ]
  },
  {
   "cell_type": "code",
   "execution_count": 5,
   "id": "03fd3571-d0b9-41d8-9200-1e114a668ff0",
   "metadata": {},
   "outputs": [
    {
     "name": "stderr",
     "output_type": "stream",
     "text": [
      "[nltk_data] Downloading package vader_lexicon to\n",
      "[nltk_data]     C:\\Users\\atmiya\\AppData\\Roaming\\nltk_data...\n"
     ]
    },
    {
     "data": {
      "text/plain": [
       "True"
      ]
     },
     "execution_count": 5,
     "metadata": {},
     "output_type": "execute_result"
    }
   ],
   "source": [
    "#Sentiment analysis\n",
    "import nltk\n",
    "nltk.download('vader_lexicon')"
   ]
  },
  {
   "cell_type": "code",
   "execution_count": 7,
   "id": "6d268123-9dd3-43cf-9d73-1118ee6a9a5f",
   "metadata": {},
   "outputs": [
    {
     "name": "stdout",
     "output_type": "stream",
     "text": [
      "I love this product! it's amazing --> {'neg': 0.0, 'neu': 0.266, 'pos': 0.734, 'compound': 0.8516}\n",
      "this is the worst product ever.the product was okay ,not great but not bad either. --> {'neg': 0.225, 'neu': 0.526, 'pos': 0.25, 'compound': 0.1351}\n"
     ]
    }
   ],
   "source": [
    "#Sentiment analysis using vader\n",
    "import nltk\n",
    "from nltk.sentiment.vader import SentimentIntensityAnalyzer\n",
    "#Initializing the analyzer\n",
    "analyzer=SentimentIntensityAnalyzer()#this line creates an object of the class SentimentIntesityAnalyzer,\n",
    "                                     #it loads VADER sentiment lexicon (dictionary of ~7,500 words,emojis,emoticons,acronyms,\\\n",
    "                                     #with pre-assigned sentiment score\n",
    "sentences=[\n",
    "    \"I love this product! it's amazing\",\n",
    "    \"this is the worst product ever.\"\n",
    "    \"the product was okay ,not great but not bad either.\"\n",
    "]\n",
    "for text in sentences:\n",
    "    scores=analyzer.polarity_scores(text)\n",
    "    print(text,\"-->\",scores)"
   ]
  },
  {
   "cell_type": "code",
   "execution_count": 2,
   "id": "91992a65-1b6e-4a92-87f0-76e25713a77f",
   "metadata": {},
   "outputs": [
    {
     "data": {
      "image/png": "[encoded data removed]",
      "text/plain": [
       "<Figure size 1000x400 with 1 Axes>"
      ]
     },
     "metadata": {},
     "output_type": "display_data"
    }
   ],
   "source": [
    "#Reading and plotting audio data\n",
    "# pip install librosa\n",
    "import librosa\n",
    "import librosa.display\n",
    "import matplotlib.pyplot as plt \n",
    "\n",
    "#load an audio file\n",
    "audio_files = 'sample.wav'\n",
    "y,sr = librosa.load(audio_files)\n",
    "\n",
    "plt.figure(figsize=(10,4))\n",
    "librosa.display.waveshow(y,sr=sr)\n",
    "plt.title('Audio waveform')\n",
    "plt.xlabel('time in sec')\n",
    "plt.ylabel('Amplitude')\n",
    "plt.show()"
   ]
  },
  {
   "cell_type": "code",
   "execution_count": null,
   "id": "1c9dbf8c-a44c-4ddd-aef0-955c4f959e29",
   "metadata": {},
   "outputs": [],
   "source": []
  }
 ],
 "metadata": {
  "kernelspec": {
   "display_name": "Python 3 (ipykernel)",
   "language": "python",
   "name": "python3"
  },
  "language_info": {
   "codemirror_mode": {
    "name": "ipython",
    "version": 3
   },
   "file_extension": ".py",
   "mimetype": "text/x-python",
   "name": "python",
   "nbconvert_exporter": "python",
   "pygments_lexer": "ipython3",
   "version": "3.10.2"
  }
 },
 "nbformat": 4,
 "nbformat_minor": 5
}
